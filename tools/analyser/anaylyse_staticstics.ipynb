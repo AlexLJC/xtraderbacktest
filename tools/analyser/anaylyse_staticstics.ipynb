{
 "cells": [
  {
   "cell_type": "code",
   "execution_count": null,
   "id": "53ae7b11",
   "metadata": {},
   "outputs": [],
   "source": [
    "# Imports\n",
    "import pandas as pd\n",
    "import sys\n",
    "import os\n",
    "import matplotlib.pyplot as plt\n",
    "import json\n",
    "\n"
   ]
  },
  {
   "cell_type": "code",
   "execution_count": null,
   "id": "0078a680",
   "metadata": {},
   "outputs": [],
   "source": [
    "# Input Area\n",
    "MERGED_RESULT_FILE_NAME = 'issac1_20211012125543.csv'\n"
   ]
  },
  {
   "cell_type": "code",
   "execution_count": null,
   "id": "2460a298",
   "metadata": {},
   "outputs": [],
   "source": [
    "# Read merged backtest results from csv\n",
    "df_original = pd.read_csv('./merged_results/'+MERGED_RESULT_FILE_NAME)\n",
    "df_original.head()\n",
    "# Load extra info into dataframe as columes\n",
    "dict_extra = df_original['extra'].to_dict()\n",
    "for key in dict_extra.keys():\n",
    "    extra_str = dict_extra[key].replace(\"'\",'\"')\n",
    "    dict_extra[key] = json.loads(extra_str)\n",
    "extra_df = pd.DataFrame.from_dict(dict_extra,orient='index')\n",
    "df_original = pd.concat([df_original, extra_df], axis=1)"
   ]
  },
  {
   "cell_type": "code",
   "execution_count": null,
   "id": "9c24e804",
   "metadata": {},
   "outputs": [],
   "source": [
    "'''\n",
    "Filters which is processed before analyse\n",
    "'''\n",
    "df = df_original.copy(deep = True)\n",
    "# Price filter Template\n",
    "df = df[(df['open_price'] < 100) & (df['open_price'] >= 5)]\n",
    "# Opendate filter Template\n",
    "df = df[df['open_date'] > '2019-06-01 00:00:00']\n",
    "\n",
    "# Stocks name filter\n",
    "unwanted_list = ['AAPL_US']\n",
    "df = df[~df['symbol'].isin(unwanted_list)]\n",
    "df"
   ]
  },
  {
   "cell_type": "code",
   "execution_count": null,
   "id": "337e05bf",
   "metadata": {
    "scrolled": false
   },
   "outputs": [],
   "source": [
    "'''\n",
    "Basic Analyse\n",
    "'''\n",
    "GRAINESS = 5\n",
    "df['entry_price_in_grainess'] =(df['open_price']/GRAINESS).astype(int) * GRAINESS\n",
    "grouped = df.groupby('entry_price_in_grainess')\n",
    "profit_distribute = grouped[['profit']].sum()\n",
    "true_profit_distribute = grouped[['true_profit']].sum()\n",
    "# Profit cumsum\n",
    "df['pnl_cum_true'] = df['true_profit'].cumsum()\n",
    "df['pnl_cum'] = df['profit'].cumsum()\n",
    "\n",
    "# Margin cumsum\n",
    "margin_event = []\n",
    "for index, row in df.iterrows():\n",
    "    event_temp = {\n",
    "        \"date\":row['open_date'],\n",
    "        \"amount\":abs(row[\"margin\"])\n",
    "    }\n",
    "    margin_event.append(event_temp)\n",
    "    event_temp = {\n",
    "        \"date\":row['close_date'],\n",
    "        \"amount\":0-abs(row[\"margin\"])\n",
    "    }\n",
    "    margin_event.append(event_temp)\n",
    "margin_event = sorted(margin_event, key=lambda k: k['date']) \n",
    "margin_df = pd.DataFrame(margin_event)\n",
    "margin_df['margin_total'] = margin_df['amount'].cumsum()\n",
    "margin_df = margin_df.set_index('date')\n",
    "dict_margin_df = margin_df['margin_total'].to_dict()\n",
    "df['margin_total'] = df['open_date'].map(dict_margin_df).fillna(method='ffill')\n",
    "# Orders distribution in month-year category\n",
    "df['open_date_month_and_year'] = df['open_date'].apply(lambda x:x[0:7])\n",
    "df['open_date_month_and_year_count'] = 1\n",
    "month_and_year_distribute = df.groupby('open_date_month_and_year')[['profit','open_date_month_and_year_count']].sum()\n"
   ]
  },
  {
   "cell_type": "code",
   "execution_count": null,
   "id": "a947de1d",
   "metadata": {
    "scrolled": false
   },
   "outputs": [],
   "source": [
    "# Draw\n",
    "profit_distribute.plot.bar( y='profit', rot=0,figsize=(20,10))\n",
    "month_and_year_distribute.plot.bar( y='profit', rot=0,figsize=(20,10))\n",
    "month_and_year_distribute.plot.bar( y='open_date_month_and_year_count', rot=0,figsize=(20,10))\n",
    "true_profit_distribute.plot.bar( y='true_profit', rot=0,figsize=(20,10))\n",
    "df.plot.line(x='open_date', y=['pnl_cum_true','pnl_cum'],figsize=(20,10))\n",
    "df.plot.line(x='open_date', y=['margin_total'],figsize=(20,10))"
   ]
  },
  {
   "cell_type": "code",
   "execution_count": null,
   "id": "45ff8b05",
   "metadata": {},
   "outputs": [],
   "source": [
    "# Print\n",
    "print(\"====================Basic Info===================\")\n",
    "print(\"Total true profit\",df['true_profit'].sum())\n",
    "print(\"Avg win in perc\",str(((df['close_price']-df['open_price'])/df['open_price']).mean() * 100) + '%')\n",
    "print(\"Win rate\",str(df[df['profit'] > 0].shape[0] / df.shape[0] * 100)+ '%' )\n",
    "print(\"Total orders\",df.shape[0])\n",
    "print(\"Total commissions\",df['commission'].sum())\n",
    "print(\"Total profit\",df['profit'].sum())\n",
    "print(\"=========Order Distribution In Year-Month=========\")\n",
    "print(month_and_year_distribute.describe())"
   ]
  },
  {
   "cell_type": "code",
   "execution_count": null,
   "id": "40d017c8",
   "metadata": {
    "scrolled": false
   },
   "outputs": [],
   "source": [
    "'''\n",
    "Custom Analyse\n",
    "'''\n"
   ]
  }
 ],
 "metadata": {
  "kernelspec": {
   "display_name": "Python 3",
   "language": "python",
   "name": "python3"
  },
  "language_info": {
   "codemirror_mode": {
    "name": "ipython",
    "version": 3
   },
   "file_extension": ".py",
   "mimetype": "text/x-python",
   "name": "python",
   "nbconvert_exporter": "python",
   "pygments_lexer": "ipython3",
   "version": "3.6.8"
  }
 },
 "nbformat": 4,
 "nbformat_minor": 5
}
